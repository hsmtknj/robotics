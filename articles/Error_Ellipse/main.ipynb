{
 "cells": [
  {
   "cell_type": "markdown",
   "metadata": {},
   "source": [
    "# 誤差楕円を可視化する\n",
    "\n",
    "カルマンフィルタなどを実装していると，分散が本当に小さくなっているのか，またどのように小さくなっていくのか確認したくなるときがあります．\n",
    "\n",
    "そのような場合に，下記図のように誤差楕円 (Error Ellipse) を可視化することで，直感的に分散が小さくなっていく過程を確認することができます．\n",
    "\n",
    "<div style=\"text-align:center\">\n",
    "<img src=\"./assets/fig1.png\" width=\"300px\">\n",
    "</div>\n",
    "\n",
    "例えば，位置 $(x, y)$ とその分散を可視化する場合は，$x, y$ それぞれの分散から，誤差を表す楕円のパラメータを計算することで誤差楕円を描画することができます．\n"
   ]
  },
  {
   "cell_type": "code",
   "execution_count": 61,
   "metadata": {},
   "outputs": [
    {
     "data": {
      "image/png": "[encoded data removed]",
      "text/plain": [
       "<Figure size 432x288 with 1 Axes>"
      ]
     },
     "metadata": {
      "needs_background": "light"
     },
     "output_type": "display_data"
    }
   ],
   "source": [
    "import numpy as np\n",
    "import matplotlib.pyplot as plt\n",
    "\n",
    "# ===========================\n",
    "#* Setting *#\n",
    "# ===========================\n",
    "\n",
    "# Object の状態 (位置) と共分散行列\n",
    "x = np.array([5, 3]).reshape(2, 1)\n",
    "P = np.array([[25, 9],\n",
    "              [9, 16]])\n",
    "\n",
    "# 次元が2で99%の信用区間のカイ二乗値\n",
    "chi_2 = 9.21034\n",
    "\n",
    "\n",
    "# ===========================\n",
    "#* Functions *#\n",
    "# ===========================\n",
    "\n",
    "def rad2deg(a):\n",
    "    return a * 180 / np.pi\n",
    "\n",
    "def deg2rad(a):\n",
    "    return a / 180 * np.pi\n",
    "\n",
    "\n",
    "# ===========================\n",
    "#* 誤差楕円を算出する *#\n",
    "# ===========================\n",
    "\n",
    "# 1. 傾きのない楕円を用意する\n",
    "\n",
    "# 固有値と固有ベクトルを取得\n",
    "# ※ 固有ベクトルは列ごとに格納される\n",
    "#   w1 = w[0]\n",
    "#   w2 = w[1]\n",
    "#   v1 = v[:, 0]\n",
    "#   v2 = v[:, 1]\n",
    "(w, v) = np.linalg.eig(P)\n",
    "\n",
    "# 固有値の大きい方と小さい方のインデックスを取得\n",
    "max_idx = np.argmax(w)\n",
    "min_idx = np.argmin(w)\n",
    "\n",
    "# 大きい方の固有値に対応する固有ベクトルの角度を求める\n",
    "#   np.arctan2(y, x)\n",
    "ang_r = np.arctan2(v[1, max_idx], v[0, max_idx])\n",
    "ang_d = ang_r * 180 / np.pi\n",
    "\n",
    "# 楕円のパラメータを取得する\n",
    "a = np.sqrt(w[max_idx] * chi_2)\n",
    "b = np.sqrt(w[min_idx] * chi_2)\n",
    "\n",
    "# 楕円を用意する\n",
    "t = list(np.arange(0, deg2rad(360+1), deg2rad(5)))\n",
    "ell = np.array([a * np.cos(t), b * np.sin(t)])\n",
    "\n",
    "\n",
    "# 2. 楕円を回転させる\n",
    "\n",
    "# 誤差楕円の回転\n",
    "R = np.array([[np.cos(ang_r), np.sin(ang_r)],\n",
    "              [-np.sin(ang_r), np.cos(ang_r)]])\n",
    "\n",
    "ell_rotated = np.matmul(R, ell)\n",
    "\n",
    "\n",
    "# ===========================\n",
    "#* 楕円を描画する *#\n",
    "# ===========================\n",
    "\n",
    "# 楕円を描画\n",
    "plt.figure()\n",
    "plt.xticks(np.arange(-25, 25, 5))\n",
    "plt.yticks(np.arange(-25, 25, 5))\n",
    "ax = plt.gca() # gets the active axis \n",
    "ax.set_aspect(1)\n",
    "\n",
    "# 回転・平行移動前の誤差楕円\n",
    "plt.plot(ell[0, :], ell[1, :])\n",
    "plt.scatter(0, 0, c='k')\n",
    "\n",
    "# 回転・平行移動後の誤差楕円\n",
    "plt.plot(ell_rotated[0, :] + x[0], ell_rotated[1, :] + x[1])\n",
    "plt.scatter(x[0], x[1], c='k')\n",
    "\n",
    "plt.show()\n"
   ]
  },
  {
   "cell_type": "markdown",
   "metadata": {},
   "source": [
    "# References\n",
    "- [カルマンフィルタにおける誤差楕円の計算方法](https://myenigma.hatenablog.com/entry/20140621/1403336277)\n",
    "    - [Matlab のソースコード](https://github.com/AtsushiSakai/MATLABRobotics/blob/master/Localization/ExtenedKalmanFilterLocalization/ExtendedKalmanFilterLocalization.m)"
   ]
  }
 ],
 "metadata": {
  "kernelspec": {
   "display_name": "Python 3.8.2 64-bit ('py382': venv)",
   "language": "python",
   "name": "python38264bitpy382venvc3bf3ab94a1142dcbff44c60d46825e3"
  },
  "language_info": {
   "codemirror_mode": {
    "name": "ipython",
    "version": 3
   },
   "file_extension": ".py",
   "mimetype": "text/x-python",
   "name": "python",
   "nbconvert_exporter": "python",
   "pygments_lexer": "ipython3",
   "version": "3.8.2"
  }
 },
 "nbformat": 4,
 "nbformat_minor": 4
}
